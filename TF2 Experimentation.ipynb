{
 "cells": [
  {
   "cell_type": "code",
   "execution_count": 90,
   "metadata": {
    "collapsed": true
   },
   "outputs": [],
   "source": [
    "from pandas import DataFrame\n",
    "import pandas as pd\n",
    "import numpy as np\n",
    "import requests\n",
    "import json\n",
    "import arrow"
   ]
  },
  {
   "cell_type": "code",
   "execution_count": 3,
   "metadata": {
    "collapsed": false
   },
   "outputs": [],
   "source": [
    "backpack_tf_api_key = \"568d36d7ba8d889e3ba94bdf\""
   ]
  },
  {
   "cell_type": "code",
   "execution_count": 413,
   "metadata": {
    "collapsed": false
   },
   "outputs": [],
   "source": [
    "class Item:\n",
    "    \n",
    "    history = DataFrame()\n",
    "    \n",
    "    def __repr__(self):\n",
    "        return str(self.history)\n",
    "\n",
    "    def __init__(self, item=None, **kwargs):\n",
    "        if item:\n",
    "            # Make the API call.\n",
    "            params = {\"key\": backpack_tf_api_key, \"item\": item}\n",
    "            params.update(kwargs)\n",
    "            data = json.loads(requests.get(\"http://backpack.tf/api/IGetPriceHistory/v1/\",\n",
    "                                           params=params).text)['response']['history']\n",
    "            # Parse it into a `pandas` `DataFrame`.\n",
    "            frame = DataFrame(data,\n",
    "                              index=[np.datetime64(str(arrow.get(t['timestamp']).format('YYYY-MM-DD'))) for t in data],\n",
    "                              columns=[\"currency\", \"value\", \"value_high\"])\n",
    "            # Throw out earlier dates, for the moment. `2013-01-01` is the starting point for all knowledge.\n",
    "            frame = frame[pd.to_datetime('2013-01-01'):]\n",
    "            # Extrapolate Refined Metal price back to `2013-01-01`.\n",
    "            if item == \"Refined Metal\":\n",
    "                frame.loc[pd.to_datetime('2013-01-01')] = ['usd', 0.40, 0.40]\n",
    "                frame = frame.sort_index()\n",
    "            # Rebase rows from `2013-01-01` forward to USD.\n",
    "            else:\n",
    "                for i in range(0, len(frame.index)):\n",
    "                    data = frame.iloc[i]\n",
    "                    date = data.name\n",
    "                    if date >= pd.to_datetime('2013-01-01'):\n",
    "                        currency = data['currency']\n",
    "                        conversion_rate = value_at(currency, date)\n",
    "                        frame.iat[i, 0] = 'usd'\n",
    "                        frame.iat[i, 1] *= conversion_rate[0]\n",
    "                        frame.iat[i, 2] *= conversion_rate[1]\n",
    "            self.history = frame\n",
    "\n",
    "            \n",
    "    def to_csv(self, filename):\n",
    "        self.history.to_csv(filename)\n",
    "    \n",
    "    \n",
    "    def read_csv(self, filename):\n",
    "        self.history = self.history.from_csv(filename)\n",
    "\n",
    "        \n",
    "def value_at(currency, date):\n",
    "    f_date = np.datetime64(str(arrow.get(date).format('YYYY-MM-DD')))\n",
    "    # USD-to-USD conversion is a multiple of 1.\n",
    "    if currency == \"usd\":\n",
    "        return (1, 1)\n",
    "    # Convert metal prices based on historical data.\n",
    "    elif currency == \"metal\":\n",
    "        value_entry = metal.history[:f_date].tail(1)\n",
    "        return (value_entry['value'][0], value_entry['value_high'][0])\n",
    "    # Convert key prices based on historical data.\n",
    "    elif currency == \"keys\":\n",
    "        value_entry = key.history[:f_date].tail(1)\n",
    "        metal_conversion = value_at(\"metal\", date)\n",
    "        return (metal_conversion[0] * value_entry['value'][0],\n",
    "                metal_conversion[1] * value_entry['value_high'][0])"
   ]
  },
  {
   "cell_type": "markdown",
   "metadata": {},
   "source": [
    "`backpack.tf` data goes back to late 2012: the initial log for Earbuds goes back to `2012-08-10`, while the initial log for keys goes back to `2012-07-09`. The constraining variable is Metal, the USD price for which was only first logged on `2013-01-07`. Since all prices are passed through Metal on the way to USD, this means that reliable prices can only be established back to (a reasonably extrapolated) `2013-01-01`.\n",
    "\n",
    "Future work may extend the augment the timeline back beyond this date, this is up in the air - still exploring alternative data sources.\n",
    "\n",
    "For the moment price data older than `2013-01-01` is removed. This could change in the final version."
   ]
  },
  {
   "cell_type": "code",
   "execution_count": 415,
   "metadata": {
    "collapsed": true
   },
   "outputs": [],
   "source": [
    "metal = Item(\"Refined Metal\")\n",
    "keys = Item(\"Mann Co. Supply Crate Key\")\n",
    "earbuds = Item(\"Earbuds\")"
   ]
  },
  {
   "cell_type": "code",
   "execution_count": 385,
   "metadata": {
    "collapsed": false
   },
   "outputs": [
    {
     "data": {
      "text/plain": [
       "           currency  value  value_high\n",
       "2013-01-01      usd   0.40        0.40\n",
       "2013-01-20      usd   0.40        0.40\n",
       "2013-02-03      usd   0.38        0.40\n",
       "2013-02-19      usd   0.36        0.38\n",
       "2013-03-04      usd   0.35        0.37\n",
       "2013-03-16      usd   0.35        0.35\n",
       "2013-06-21      usd   0.33        0.35\n",
       "2013-08-24      usd   0.31        0.33\n",
       "2013-09-15      usd   0.30        0.32\n",
       "2013-10-13      usd   0.30        0.31\n",
       "2013-10-24      usd   0.30        0.32\n",
       "2013-11-17      usd   0.31        0.32\n",
       "2013-12-02      usd   0.30        0.32\n",
       "2014-01-09      usd   0.29        0.30\n",
       "2014-02-17      usd   0.26        0.28\n",
       "2014-03-29      usd   0.25        0.26\n",
       "2014-04-27      usd   0.25        0.25\n",
       "2014-05-17      usd   0.24        0.25\n",
       "2014-10-22      usd   0.21        0.23\n",
       "2014-11-13      usd   0.19        0.21\n",
       "2014-12-05      usd   0.17        0.18\n",
       "2014-12-14      usd   0.16        0.17\n",
       "2014-12-26      usd   0.16        0.16\n",
       "2015-01-22      usd   0.15        0.15\n",
       "2015-02-11      usd   0.13        0.15\n",
       "2015-03-03      usd   0.12        0.12\n",
       "2015-03-22      usd   0.11        0.12\n",
       "2015-04-03      usd   0.10        0.10\n",
       "2015-04-17      usd   0.11        0.12\n",
       "2015-05-08      usd   0.12        0.12\n",
       "2015-06-28      usd   0.11        0.12\n",
       "2015-07-13      usd   0.12        0.13"
      ]
     },
     "execution_count": 385,
     "metadata": {},
     "output_type": "execute_result"
    }
   ],
   "source": [
    "metal"
   ]
  },
  {
   "cell_type": "code",
   "execution_count": 386,
   "metadata": {
    "collapsed": false,
    "scrolled": false
   },
   "outputs": [
    {
     "data": {
      "text/plain": [
       "           currency     value  value_high\n",
       "2013-01-01      usd  32.34400    34.63200\n",
       "2013-01-07      usd  33.48800    35.96400\n",
       "2013-01-30      usd  35.96400    39.52800\n",
       "2013-02-04      usd  35.29440    40.99200\n",
       "2013-02-26      usd  35.57520    39.80880\n",
       "2013-03-02      usd  35.28720    39.80880\n",
       "2013-03-12      usd  36.66600    41.05890\n",
       "2013-03-18      usd  37.80000    40.27800\n",
       "2013-03-27      usd  38.83950    39.87900\n",
       "2013-03-30      usd  38.40200    40.91850\n",
       "2013-04-03      usd  38.40200    39.40300\n",
       "2013-04-10      usd  37.88750    40.40400\n",
       "2013-04-11      usd  37.88750    39.81250\n",
       "2013-04-12      usd  36.37200    39.81250\n",
       "2013-04-13      usd  37.29600    39.14400\n",
       "2013-04-15      usd  35.74200    39.14400\n",
       "2013-04-16      usd  36.62750    37.51300\n",
       "2013-04-20      usd  35.03500    37.51300\n",
       "2013-04-22      usd  35.88200    36.72900\n",
       "2013-04-27      usd  35.05950    38.50000\n",
       "2013-05-13      usd  38.50000    39.34700\n",
       "2013-05-19      usd  38.50000    42.02100\n",
       "2013-05-21      usd  40.25000    42.02100\n",
       "2013-05-23      usd  40.25000    43.84800\n",
       "2013-05-26      usd  42.92400    44.77200\n",
       "2013-05-31      usd  42.92400    46.63750\n",
       "2013-06-17      usd  44.77200    45.69600\n",
       "2013-06-21      usd  40.45470    46.62000\n",
       "2013-06-27      usd  41.28960    44.67750\n",
       "2013-07-14      usd  39.49440    45.56300\n",
       "...             ...       ...         ...\n",
       "2015-05-05      usd   8.21040    10.26000\n",
       "2015-05-07      usd   8.21040     9.12000\n",
       "2015-05-13      usd   7.83720     9.12000\n",
       "2015-05-21      usd   7.52400     7.52400\n",
       "2015-05-26      usd   7.06800     7.52400\n",
       "2015-05-30      usd   6.84000     7.29600\n",
       "2015-06-19      usd   7.06800     7.33824\n",
       "2015-07-06      usd   7.22645     9.12000\n",
       "2015-07-08      usd  10.32350    11.40000\n",
       "2015-07-09      usd  11.58300    12.96000\n",
       "2015-07-09      usd  13.51350    15.12000\n",
       "2015-07-11      usd   9.65250    10.80000\n",
       "2015-07-12      usd   6.93880     7.56960\n",
       "2015-08-06      usd   7.29600     8.32000\n",
       "2015-08-11      usd   6.62400     7.28000\n",
       "2015-09-14      usd   6.33600     6.86400\n",
       "2015-09-25      usd   5.95200     6.91119\n",
       "2015-09-28      usd   5.85600     6.49233\n",
       "2015-10-05      usd   5.76000     6.28290\n",
       "2015-10-13      usd   5.37600     6.28290\n",
       "2015-10-14      usd   5.37600     5.86404\n",
       "2015-10-20      usd   5.18400     5.65461\n",
       "2015-10-25      usd   5.02632     5.44518\n",
       "2015-10-27      usd   4.83300     5.23575\n",
       "2015-11-15      usd   4.89600     5.30400\n",
       "2015-11-22      usd   6.48000     7.02000\n",
       "2015-12-04      usd   6.15600     7.41000\n",
       "2015-12-07      usd   5.73300     6.21075\n",
       "2015-12-13      usd   5.50368     5.96232\n",
       "2015-12-29      usd   5.61492     6.19866\n",
       "\n",
       "[136 rows x 3 columns]"
      ]
     },
     "execution_count": 386,
     "metadata": {},
     "output_type": "execute_result"
    }
   ],
   "source": [
    "earbuds"
   ]
  },
  {
   "cell_type": "code",
   "execution_count": null,
   "metadata": {
    "collapsed": true
   },
   "outputs": [],
   "source": []
  }
 ],
 "metadata": {
  "kernelspec": {
   "display_name": "Python 3",
   "language": "python",
   "name": "python3"
  },
  "language_info": {
   "codemirror_mode": {
    "name": "ipython",
    "version": 3
   },
   "file_extension": ".py",
   "mimetype": "text/x-python",
   "name": "python",
   "nbconvert_exporter": "python",
   "pygments_lexer": "ipython3",
   "version": "3.4.3"
  }
 },
 "nbformat": 4,
 "nbformat_minor": 0
}
