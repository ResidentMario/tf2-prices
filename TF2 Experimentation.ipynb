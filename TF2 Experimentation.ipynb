{
 "cells": [
  {
   "cell_type": "markdown",
   "metadata": {},
   "source": [
    "# Team Fortress 2 Economics\n",
    "\n",
    "This notebook is a work-in-progress study of the Team Fortress 2 economy. It utilizes the `backpack.tf` [price history API](https://backpack.tf/api/pricehistory). The Python code backending the analysis is my own, but massive credit goes to [Fiskie](http://steamcommunity.com/profiles/76561198012598620/), the `backpack.tf` developer who put together the API that made this possible.\n",
    "\n",
    "### FAQ\n",
    "\n",
    "**What is Team Fortress 2?**\n",
    "\n",
    "Team Fortress 2 is a first-person team-based multiplayer shooter video game that was initially released in 2007. The game has recieved continual love and attention from its publisher, Valve, ever since then, which a handful of major content updates released every year and a variety of smaller fixes and additions released throughout. The result is that the game remains viable today, though I personally would say that at this point—going on eight years post-release—its glory days are behind it.\n",
    "\n",
    "If you are not already familiar with the game, the [Team Fortress 2](https://en.wikipedia.org/wiki/Team_Fortress_2) Wikipedia article is, as always, a good reference point.\n",
    "\n",
    "**What is the Team Fortress 2 economy? Where did it come from?**\n",
    "\n",
    "Team Fortress 2 was originally a pay-to-play game: at the time of its 2007 release you had to buy the game disc, or download it from the then still new [Steam](https://en.wikipedia.org/wiki/Steam_%28software%29) platform, in order to play it; once you owned the game you owned the game, and Valve neither had nor produced any further incentive for your monetary investment in the game.\n",
    "\n",
    "Upon release in 2007, TF2 featured a small number of maps, a few stock weapons, and gratuitous cartoon violence—but little else. Now, fast forward to Septmeber 2010. Successive updates have introduced a small armory of new weapons, the item crafting system, hats, and other such nicities, but it's been three years now, and the game is turning into a money sink for\n",
    "Valve. The Team Fortress 2 economy was their clever solution: a storefront was introduced allowing players to spend real word money on pixilated cosmetics and player items, and, simultaneously and critically, a trading interface. To encourage trading and valuation of goods they turned to the market: a trading interface was created that allowed people to swap items with one another.\n",
    "\n",
    "The economy has had its ups and downs and bumps ever since then, but one thing is clear: it made Valve money; a lot of money. No one knows exactly how much money is locked up in the Team Fortress 2 economy, but it's [probably in the hundreds of millions of dollars](http://kotaku.com/5869042/analyst-pegs-team-fortress-2-hat-economy-at-50-million).\n",
    "\n",
    "\n",
    "**Who participates in the economy?**\n",
    "\n",
    "Technically speaking, everyone that is playing the game participates: the game (mostly) distributes the weapons that players can unlock and use for their characters using a time-based drop system, and these items—more specifically the \"metal\" that they can be \"melted down\" into—each have a small but non-trivial monetary value.\n",
    "\n",
    "In reality, the vast majority of trading activities are untaken by a specific subset of \"hardcore\" players, players who invest incredible amounts of time and money into their activities. Studying these players is not the point of this notebook, but it might be interesting to perform a longitudinal study of trading activity, as I am not aware of one that exists.\n",
    "\n",
    "\n",
    "**What makes an item valuable?**\n",
    "\n",
    "The short answer: [Hats](https://www.youtube.com/watch?v=HDI2EmYH98I).\n",
    "\n",
    "The long answer: Price is primarily a function of two things: rarity and stylishness. Truly valuable items—cosmetics, primarily—drop very rarely. Extremely valuable ones are distributed on promotional or store-only grounds, and do not drop at all. And the absolute most valuable items are \"unusual\" hats which have various particle effects attached to themselves. Similarly, just as real life fashions can drive prices, so too can Team Fortress 2 ones.\n",
    "\n",
    "\n",
    "**What is the most valuable item?**\n",
    "\n",
    "At the intersection of fashion and rarity is the hat to end all hats, the [Burning Flames Unusual Team Captain](https://backpack.tf/stats/Unusual/Team%20Captain/Tradable/Craftable/13). The exact transaction costs of these items is sketchy, but `backpack.tf` says that at one point they were selling for over over 19,000 dollars.\n",
    "\n",
    "For a virtual hat.\n",
    "\n",
    "Think about that.\n",
    "\n",
    "\n",
    "**What is the largest ever single transaction?**\n",
    "\n",
    "I would love to know myself. The most correct answer might not even be public information.\n",
    "\n",
    "\n",
    "**What previous efforts have been made to study it?**\n",
    "\n",
    "None at scale. (a better answer pending further reading)\n",
    "\n",
    "\n",
    "**How far back does the market data used for this study go?**\n",
    "\n",
    "`backpack.tf` data goes back to late 2012: the initial log for Earbuds goes back to `2012-08-10`, while the initial log for keys goes back to `2012-07-09`. The constraining variable is Metal, the USD price for which was only first logged on `2013-01-07`. Since all prices are passed through Metal on the way to USD, this means that reliable prices can only be established back to (a reasonably extrapolated) `2013-01-01`.\n",
    "\n",
    "Future work may extend the augment the timeline back beyond this date, this is up in the air - still exploring alternative data sources.\n",
    "\n",
    "For the moment price data older than `2013-01-01` is removed, and all prices are normalized to `usd` by default. This could change in the final version.\n",
    "\n",
    "\n",
    "**Who are you? Why are you doing this?**\n",
    "\n",
    "In real life I am an undergraduate student of mathematics in New York City. On Steam I go by [ResMar](https://steamcommunity.com/id/residentmario). I invested over 500 hours in Team Fortress 2 when I was younger: I found its economics fascinating and have always wanted to study it in some manner. And I was reading [this book](http://www.amazon.com/Python-Data-Analysis-Wrangling-IPython/dp/1449319793).\n",
    "\n",
    "\n",
    "**Where can I learn more about this economy?**\n",
    "\n",
    "My own recommended reading list:\n",
    "\n",
    "* http://scientificgamer.com/an-economy-of-hats/\n",
    "* http://www.gamefaqs.com/pc/437678-team-fortress-2/faqs/65012\n",
    "* http://blogs.valvesoftware.com/economics/arbitrage-and-equilibrium-in-the-team-fortress-2-economy/\n",
    "\n",
    "I welcome suggestions by others.\n"
   ]
  },
  {
   "cell_type": "code",
   "execution_count": 1,
   "metadata": {
    "collapsed": true
   },
   "outputs": [],
   "source": [
    "from item import Item\n",
    "from market import Market\n",
    "import requests"
   ]
  },
  {
   "cell_type": "markdown",
   "metadata": {},
   "source": [
    "### Market Summary\n",
    "\n",
    "First we establish some summary statistics about the overall market."
   ]
  },
  {
   "cell_type": "markdown",
   "metadata": {},
   "source": [
    "**How many unique items are there?**\n",
    "\n",
    "An item is considered unique if it has its own texture map in the game files."
   ]
  },
  {
   "cell_type": "code",
   "execution_count": 7,
   "metadata": {
    "collapsed": false
   },
   "outputs": [
    {
     "data": {
      "text/plain": [
       "2192"
      ]
     },
     "execution_count": 7,
     "metadata": {},
     "output_type": "execute_result"
    }
   ],
   "source": [
    "unique_count = requests.get(\"https://tf2stats.net/all_items/\").text.count('<div class=\"item tooltip round5\">')\n",
    "unique_count"
   ]
  },
  {
   "cell_type": "markdown",
   "metadata": {},
   "source": [
    "**How many distinct tradable items are there?**\n",
    "\n",
    "An item can have one of a number of different \"[qualities](https://wiki.teamfortress.com/wiki/Item_quality)\". The quality of an item can have a very large effect on the item's value.\n",
    "\n",
    "Unfortunately asking what the total number of distinct items on the market is non-trivial because of the way that the \"unusual\" quality items are distributed. We can nevertheless easily get a count of all items of non-unusual quality.\n",
    "\n",
    "Note that most of the analysis in the remainder of this notebook uses non-unusual items."
   ]
  },
  {
   "cell_type": "markdown",
   "metadata": {},
   "source": [
    "**How many distinct non-unusual tradable items are there?**"
   ]
  },
  {
   "cell_type": "code",
   "execution_count": 3,
   "metadata": {
    "collapsed": false
   },
   "outputs": [
    {
     "data": {
      "text/plain": [
       "3579"
      ]
     },
     "execution_count": 3,
     "metadata": {},
     "output_type": "execute_result"
    }
   ],
   "source": [
    "non_unusual_count = requests.get(\"http://backpack.tf/pricelist/spreadsheet\").text.count(\"title=\")\n",
    "non_unusual_count"
   ]
  },
  {
   "cell_type": "markdown",
   "metadata": {},
   "source": [
    "**How many different versions does an item have, on average?**"
   ]
  },
  {
   "cell_type": "code",
   "execution_count": 9,
   "metadata": {
    "collapsed": false
   },
   "outputs": [
    {
     "data": {
      "text/plain": [
       "1.6327554744525548"
      ]
     },
     "execution_count": 9,
     "metadata": {},
     "output_type": "execute_result"
    }
   ],
   "source": [
    "non_unusual_count / unique_count"
   ]
  },
  {
   "cell_type": "markdown",
   "metadata": {},
   "source": [
    "**What is the distribution of the values of non-unusual items?**"
   ]
  },
  {
   "cell_type": "markdown",
   "metadata": {},
   "source": [
    "Prices are basically determined by the laws of supply (how many are available) and demand (how badly the item is desired). The relative levels of these determine the item's price.\n",
    "\n",
    "**How strongly does price correlate with numerical availability?**"
   ]
  },
  {
   "cell_type": "code",
   "execution_count": null,
   "metadata": {
    "collapsed": true
   },
   "outputs": [],
   "source": []
  },
  {
   "cell_type": "markdown",
   "metadata": {},
   "source": [
    "\"Desirability\" is a characteristic intrinsic to the players that should be captured by the market price. Let's measure how strongly correlated it is with various metrics.\n",
    "\n",
    "**How much more than average does the highest-value item in a class of items usually sell for?**"
   ]
  },
  {
   "cell_type": "code",
   "execution_count": null,
   "metadata": {
    "collapsed": true
   },
   "outputs": [],
   "source": []
  },
  {
   "cell_type": "markdown",
   "metadata": {},
   "source": [
    "Let's look at the economic history of, say, a hat released in a crate. At first it's value will be precariously high, because it's extremely new, fashionable, and no one has one yet. Within a few days of crate-opening, however, its price will start to plummet, driven down by the large number of people that think as you did, and opened crates and got hats of their own, until it bottoms out a week to two weeks after release. Once the crate is taken off the item drops, however, the hat will slowly start to rebound in value again, until stabalizing at a slowly decaying value once it starts appearing in significant numbers in item drops and crafts.\n",
    "\n",
    "Now let's talk about bubbles. TF2 naturally feeds bubbles. An item's value is rising, and people take notice. They think \"well, if I buy it now and sell it later, I'll make money\", so they do that - in bulk. The decreased number on sale and increased demand combine the balloon the price to an artificially high value, up until the point where people realize, wait, what are we doing; then the price falls dramatically: the bubble pops. It happens in the real world, and it happens even more often in the layman-covered TF2 economy (real stock traders avoid bubbles). In the past this has happened to the Max Head (from 4 to 2 buds) and the Genuine Maul (from a bud to 7 to 8 keys), for instance, along with a number of other, generally more minor, items.\n"
   ]
  },
  {
   "cell_type": "code",
   "execution_count": 4,
   "metadata": {
    "collapsed": false
   },
   "outputs": [],
   "source": [
    "earbuds = Item(\"Earbuds\")"
   ]
  },
  {
   "cell_type": "code",
   "execution_count": 5,
   "metadata": {
    "collapsed": false
   },
   "outputs": [
    {
     "data": {
      "text/plain": [
       "           currency     value  value_high\n",
       "2013-01-01      usd  32.34400    34.63200\n",
       "2013-01-07      usd  33.48800    35.96400\n",
       "2013-01-30      usd  35.96400    39.52800\n",
       "2013-02-04      usd  35.29440    40.99200\n",
       "2013-02-26      usd  35.57520    39.80880\n",
       "2013-03-02      usd  35.28720    39.80880\n",
       "2013-03-12      usd  36.66600    41.05890\n",
       "2013-03-18      usd  37.80000    42.57960\n",
       "2013-03-27      usd  38.83950    39.87900\n",
       "2013-03-30      usd  38.40200    40.91850\n",
       "2013-04-03      usd  38.40200    39.40300\n",
       "2013-04-10      usd  37.88750    40.40400\n",
       "2013-04-11      usd  37.88750    39.81250\n",
       "2013-04-12      usd  36.37200    39.81250\n",
       "2013-04-13      usd  37.29600    39.14400\n",
       "2013-04-15      usd  35.74200    39.14400\n",
       "2013-04-16      usd  36.62750    37.51300\n",
       "2013-04-20      usd  35.03500    37.51300\n",
       "2013-04-22      usd  35.88200    36.72900\n",
       "2013-04-27      usd  35.05950    38.50000\n",
       "2013-05-13      usd  38.50000    39.34700\n",
       "2013-05-19      usd  38.50000    42.02100\n",
       "2013-05-21      usd  40.25000    42.02100\n",
       "2013-05-23      usd  40.25000    43.84800\n",
       "2013-05-26      usd  42.92400    44.77200\n",
       "2013-05-31      usd  42.92400    46.63750\n",
       "2013-06-17      usd  44.77200    45.69600\n",
       "2013-06-21      usd  42.90650    46.62000\n",
       "2013-06-27      usd  41.28960    44.67750\n",
       "2013-07-14      usd  39.49440    45.56300\n",
       "...             ...       ...         ...\n",
       "2015-05-26      usd   7.06800     7.52400\n",
       "2015-05-30      usd   6.84000     7.29600\n",
       "2015-06-19      usd   7.06800     7.33824\n",
       "2015-07-06      usd   7.22645     9.12000\n",
       "2015-07-08      usd  10.32350    11.40000\n",
       "2015-07-09      usd  11.58300    12.96000\n",
       "2015-07-09      usd  13.51350    15.12000\n",
       "2015-07-11      usd   9.65250    10.80000\n",
       "2015-07-12      usd   6.93880     7.56960\n",
       "2015-08-06      usd   7.29600     8.32000\n",
       "2015-08-11      usd   6.62400     7.28000\n",
       "2015-09-14      usd   6.33600     6.86400\n",
       "2015-09-25      usd   5.95200     6.91119\n",
       "2015-09-28      usd   5.85600     6.49233\n",
       "2015-10-05      usd   5.76000     6.28290\n",
       "2015-10-13      usd   5.37600     6.28290\n",
       "2015-10-14      usd   5.37600     5.86404\n",
       "2015-10-20      usd   5.18400     5.65461\n",
       "2015-10-25      usd   5.02632     5.44518\n",
       "2015-10-27      usd   4.83300     5.23575\n",
       "2015-11-15      usd   4.89600     5.30400\n",
       "2015-11-22      usd   6.48000     7.02000\n",
       "2015-12-04      usd   6.15600     7.41000\n",
       "2015-12-07      usd   5.73300     6.21075\n",
       "2015-12-13      usd   5.50368     5.96232\n",
       "2015-12-29      usd   5.61492     6.19866\n",
       "2016-01-18      usd   5.61492     6.88740\n",
       "2016-02-23      usd   5.19900     6.88740\n",
       "2016-03-03      usd   5.19900     5.73950\n",
       "2016-03-05      usd   4.99104     5.50992\n",
       "\n",
       "[140 rows x 3 columns]"
      ]
     },
     "execution_count": 5,
     "metadata": {},
     "output_type": "execute_result"
    }
   ],
   "source": [
    "earbuds"
   ]
  },
  {
   "cell_type": "markdown",
   "metadata": {},
   "source": [
    "There are a lot of questions worth asking of this data.\n",
    "\n",
    "Let's call these our \"item classes\": unique hats, genuine hats, vintage hats, unusual hats, paint buckets, currencies and psuedo-currencies, action items and taunts, etc...\n",
    "\n",
    "* How has average item price by category changed over time?\n",
    "* What does the average hat value curve look like, from the immediate post-release hype to the years that follow?\n",
    "* Meta: what is the average value percentage adjustment in a `backpack.tf` price?\n",
    "* How quickly does the value of something from a crate drop?\n",
    "* etc. etc. etc. etc.\n",
    "\n",
    "So...first...need to ball all of the API data up into individual CSV files, split up by classes. Since generating a list of \"things\" in a category is non-trivial to start out let's do some summary statistics on a concrete but interesting subset of the data?"
   ]
  },
  {
   "cell_type": "code",
   "execution_count": 6,
   "metadata": {
    "collapsed": true
   },
   "outputs": [],
   "source": [
    "metal = Item(\"Refined Metal\")"
   ]
  },
  {
   "cell_type": "code",
   "execution_count": null,
   "metadata": {
    "collapsed": true
   },
   "outputs": [],
   "source": []
  }
 ],
 "metadata": {
  "kernelspec": {
   "display_name": "Python 3",
   "language": "python",
   "name": "python3"
  },
  "language_info": {
   "codemirror_mode": {
    "name": "ipython",
    "version": 3
   },
   "file_extension": ".py",
   "mimetype": "text/x-python",
   "name": "python",
   "nbconvert_exporter": "python",
   "pygments_lexer": "ipython3",
   "version": "3.5.1"
  }
 },
 "nbformat": 4,
 "nbformat_minor": 0
}
