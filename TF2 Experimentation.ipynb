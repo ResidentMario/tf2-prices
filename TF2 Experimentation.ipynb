{
 "cells": [
  {
   "cell_type": "markdown",
   "metadata": {},
   "source": [
    "# Team Fortress 2 Economics\n",
    "\n",
    "This notebook is a work-in-progress study of the Team Fortress 2 economy. It utilizes the `backpack.tf` [price history API](https://backpack.tf/api/pricehistory). The Python code backending the analysis is my own, but massive credit goes to [Fiskie](http://steamcommunity.com/profiles/76561198012598620/), the `backpack.tf` developer who put together the API that made this possible.\n",
    "\n",
    "Great effort has been made to make this notebook read on a generally accessible level.\n",
    "\n",
    "### FAQ\n",
    "\n",
    "**What is Team Fortress 2?**\n",
    "\n",
    "Team Fortress 2 is a first-person team-based multiplayer shooter video game that was initially released in 2007. The game has recieved continual love and attention from its publisher, Valve, ever since then, which a handful of major content updates released every year and a variety of smaller fixes and additions released throughout. The result is that the game remains viable today, though I personally would say that at this point—going on eight years post-release—its glory days are behind it.\n",
    "\n",
    "If you are not already familiar with the game, the [Team Fortress 2](https://en.wikipedia.org/wiki/Team_Fortress_2) Wikipedia article is, as always, a good reference point.\n",
    "\n",
    "**What is the Team Fortress 2 economy? Where did it come from?**\n",
    "\n",
    "Team Fortress 2 was originally a pay-to-play game: at the time of its 2007 release you had to buy the game disc, or download it from the then still new [Steam](https://en.wikipedia.org/wiki/Steam_%28software%29) platform, in order to play it; once you owned the game you owned the game, and Valve neither had nor produced any further incentive for your monetary investment in the game.\n",
    "\n",
    "Upon release in 2007, TF2 featured a small number of maps, a few stock weapons, and gratuitous cartoon violence—but little else. Now, fast forward to Septmeber 2010. Successive updates have introduced a small armory of new weapons, the item crafting system, hats, and other such nicities, but it's been three years now, and the game is turning into a money sink for\n",
    "Valve. The Team Fortress 2 economy was their clever solution: a storefront was introduced allowing players to spend real word money on pixilated cosmetics and player items, and, simultaneously and critically, a trading interface. To encourage trading and valuation of goods they turned to the market: a trading interface was created that allowed people to swap items with one another.\n",
    "\n",
    "The economy has had its ups and downs and bumps ever since then, but one thing is clear: it made Valve money; a lot of money. No one knows exactly how much money is locked up in the Team Fortress 2 economy, but it's [probably in the hundreds of millions of dollars](http://kotaku.com/5869042/analyst-pegs-team-fortress-2-hat-economy-at-50-million).\n",
    "\n",
    "\n",
    "**Who participates in the economy?**\n",
    "\n",
    "Technically speaking, everyone that is playing the game participates: the game (mostly) distributes the weapons that players can unlock and use for their characters using a time-based drop system, and these items—more specifically the \"metal\" that they can be \"melted down\" into—each have a small but non-trivial monetary value.\n",
    "\n",
    "In reality, the vast majority of trading activities are untaken by a specific subset of \"hardcore\" players, players who invest incredible amounts of time and money into their activities. Studying these players is not the point of this notebook, but it might be interesting to perform a longitudinal study of trading activity, as I am not aware of one that exists.\n",
    "\n",
    "\n",
    "**What makes an item valuable?**\n",
    "\n",
    "The short answer: [Hats](https://www.youtube.com/watch?v=HDI2EmYH98I).\n",
    "\n",
    "The long answer: Price is primarily a function of two things: rarity and stylishness. Truly valuable items—cosmetics, primarily—drop very rarely. Extremely valuable ones are distributed on promotional or store-only grounds, and do not drop at all. And the absolute most valuable items are \"unusual\" hats which have various particle effects attached to themselves. Similarly, just as real life fashions can drive prices, so too can Team Fortress 2 ones.\n",
    "\n",
    "\n",
    "**What is the most valuable item?**\n",
    "\n",
    "At the intersection of fashion and rarity is the hat to end all hats, the [Burning Flames Unusual Team Captain](https://backpack.tf/stats/Unusual/Team%20Captain/Tradable/Craftable/13). The exact transaction costs of these items is sketchy, but `backpack.tf` says that at one point they were selling for over over 19,000 dollars.\n",
    "\n",
    "For a virtual hat.\n",
    "\n",
    "Think about that.\n",
    "\n",
    "\n",
    "**What is the largest ever single transaction?**\n",
    "\n",
    "I would love to know myself. The most correct answer might not even be public information.\n",
    "\n",
    "\n",
    "**What previous efforts have been made to study it?**\n",
    "\n",
    "None at scale. (a better answer pending further reading)\n",
    "\n",
    "\n",
    "**How far back does the market data used for this study go?**\n",
    "\n",
    "`backpack.tf` data goes back to late 2012: the initial log for Earbuds goes back to `2012-08-10`, while the initial log for keys goes back to `2012-07-09`. The constraining variable is Metal, the USD price for which was only first logged on `2013-01-07`. Since all prices are passed through Metal on the way to USD, this means that reliable prices can only be established back to (a reasonably extrapolated) `2013-01-01`.\n",
    "\n",
    "Future work may extend the augment the timeline back beyond this date, this is up in the air - still exploring alternative data sources.\n",
    "\n",
    "For the moment price data older than `2013-01-01` is removed, and all prices are normalized to `usd` by default. This could change in the final version.\n",
    "\n",
    "\n",
    "**Who are you? Why are you doing this?**\n",
    "\n",
    "In real life I am an undergraduate student of mathematics in New York City. On Steam I go by [ResMar](https://steamcommunity.com/id/residentmario). I invested over 500 hours in Team Fortress 2 when I was younger: I found its economics fascinating and have always wanted to study it in some manner. And I was reading [this book](http://www.amazon.com/Python-Data-Analysis-Wrangling-IPython/dp/1449319793).\n",
    "\n",
    "\n",
    "**Where can I learn more about this economy?**\n",
    "\n",
    "My own recommended reading list:\n",
    "\n",
    "* http://scientificgamer.com/an-economy-of-hats/\n",
    "* http://www.gamefaqs.com/pc/437678-team-fortress-2/faqs/65012\n",
    "* http://blogs.valvesoftware.com/economics/arbitrage-and-equilibrium-in-the-team-fortress-2-economy/\n",
    "\n",
    "I welcome suggestions by others.\n"
   ]
  },
  {
   "cell_type": "code",
   "execution_count": 15,
   "metadata": {
    "collapsed": true
   },
   "outputs": [],
   "source": [
    "from item import Item\n",
    "from market import Market\n",
    "import requests"
   ]
  },
  {
   "cell_type": "markdown",
   "metadata": {},
   "source": [
    "### Market Summary\n",
    "\n",
    "First we establish some summary statistics about the overall market."
   ]
  },
  {
   "cell_type": "markdown",
   "metadata": {},
   "source": [
    "**How many unique items are there?**\n",
    "\n",
    "An item is considered unique if it has its own texture map in the game files."
   ]
  },
  {
   "cell_type": "code",
   "execution_count": 16,
   "metadata": {
    "collapsed": false
   },
   "outputs": [
    {
     "data": {
      "text/plain": [
       "2192"
      ]
     },
     "execution_count": 16,
     "metadata": {},
     "output_type": "execute_result"
    }
   ],
   "source": [
    "requests.get(\"https://tf2stats.net/all_items/\").text.count('<div class=\"item tooltip round5\">')"
   ]
  },
  {
   "cell_type": "markdown",
   "metadata": {},
   "source": [
    "**How many distinct tradable items are there?**\n",
    "\n",
    "An item can have one of a number of different \"[qualities](https://wiki.teamfortress.com/wiki/Item_quality)\". The quality of an item can have a very large effect on the item's value.\n",
    "\n",
    "Unfortunately asking what the total number of distinct items on the market is non-trivial because of the way that the \"unusual\" quality items are distributed. We can nevertheless easily get a count of all items of non-unusual quality.\n",
    "\n",
    "Note that most of the analysis in the remainder of this notebook uses non-unusual items."
   ]
  },
  {
   "cell_type": "markdown",
   "metadata": {},
   "source": [
    "**How many distinct non-unusual tradable items are there?**"
   ]
  },
  {
   "cell_type": "code",
   "execution_count": 19,
   "metadata": {
    "collapsed": false
   },
   "outputs": [
    {
     "data": {
      "text/plain": [
       "3545"
      ]
     },
     "execution_count": 19,
     "metadata": {},
     "output_type": "execute_result"
    }
   ],
   "source": [
    "non_unusual_count = requests.get(\"http://backpack.tf/pricelist/spreadsheet\").text.count(\"title=\")\n",
    "non_unusual_count"
   ]
  },
  {
   "cell_type": "markdown",
   "metadata": {},
   "source": [
    "**What is the distribution of the values of non-unusual items?**"
   ]
  },
  {
   "cell_type": "markdown",
   "metadata": {},
   "source": [
    "Prices are basically determined by the laws of supply (how many are available) and demand (how badly the item is desired). The relative levels of these determine the item's price.\n",
    "\n",
    "**How strongly does price correlate with numerical availability?**"
   ]
  },
  {
   "cell_type": "code",
   "execution_count": null,
   "metadata": {
    "collapsed": true
   },
   "outputs": [],
   "source": []
  },
  {
   "cell_type": "markdown",
   "metadata": {},
   "source": [
    "\"Desirability\" is a characteristic intrinsic to the players that should be captured by the market price. Let's measure how strongly correlated it is with various metrics.\n",
    "\n",
    "**How much more than average does the highest-value item in a class of items usually sell for?**"
   ]
  },
  {
   "cell_type": "code",
   "execution_count": null,
   "metadata": {
    "collapsed": true
   },
   "outputs": [],
   "source": []
  },
  {
   "cell_type": "markdown",
   "metadata": {},
   "source": []
  },
  {
   "cell_type": "markdown",
   "metadata": {},
   "source": [
    "Let's look at the economic history of, say, a hat released in a crate. At first it's value will be precariously high, because it's extremely new, fashionable, and no one has one yet. Within a few days of crate-opening, however, its price will start to plummet, driven down by the large number of people that think as you did, and opened crates and got hats of their own, until it bottoms out a week to two weeks after release. Once the crate is taken off the item drops, however, the hat will slowly start to rebound in value again, until stabalizing at a slowly decaying value once it starts appearing in significant numbers in item drops and crafts.\n",
    "\n",
    "Now let's talk about bubbles. TF2 naturally feeds bubbles. An item's value is rising, and people take notice. They think \"well, if I buy it now and sell it later, I'll make money\", so they do that - in bulk. The decreased number on sale and increased demand combine the balloon the price to an artificially high value, up until the point where people realize, wait, what are we doing; then the price falls dramatically: the bubble pops. It happens in the real world, and it happens even more often in the layman-covered TF2 economy (real stock traders avoid bubbles). In the past this has happened to the Max Head (from 4 to 2 buds) and the Genuine Maul (from a bud to 7 to 8 keys), for instance, along with a number of other, generally more minor, items.\n"
   ]
  },
  {
   "cell_type": "code",
   "execution_count": 2,
   "metadata": {
    "collapsed": false
   },
   "outputs": [],
   "source": [
    "earbuds = Item(\"Earbuds\")"
   ]
  },
  {
   "cell_type": "code",
   "execution_count": 3,
   "metadata": {
    "collapsed": false
   },
   "outputs": [
    {
     "data": {
      "text/plain": [
       "           currency    value  value_high\n",
       "2013-01-01      usd   80.860      86.580\n",
       "2013-01-07      usd   83.720      89.910\n",
       "2013-01-30      usd   89.910      98.820\n",
       "2013-02-04      usd   92.880     102.480\n",
       "2013-02-26      usd   98.820     104.760\n",
       "2013-03-02      usd   98.020     104.760\n",
       "2013-03-12      usd  104.760     110.970\n",
       "2013-03-18      usd  108.000     115.080\n",
       "2013-03-27      usd  110.970     113.940\n",
       "2013-03-30      usd  109.720     116.910\n",
       "2013-04-03      usd  109.720     112.580\n",
       "2013-04-10      usd  108.250     115.440\n",
       "2013-04-11      usd  108.250     113.750\n",
       "2013-04-12      usd  103.920     113.750\n",
       "2013-04-13      usd  106.560     111.840\n",
       "2013-04-15      usd  102.120     111.840\n",
       "2013-04-16      usd  104.650     107.180\n",
       "2013-04-20      usd  100.100     107.180\n",
       "2013-04-22      usd  102.520     104.940\n",
       "2013-04-27      usd  100.170     110.000\n",
       "2013-05-13      usd  110.000     112.420\n",
       "2013-05-19      usd  110.000     120.060\n",
       "2013-05-21      usd  115.000     120.060\n",
       "2013-05-23      usd  115.000     125.280\n",
       "2013-05-26      usd  122.640     127.920\n",
       "2013-05-31      usd  122.640     133.250\n",
       "2013-06-17      usd  127.920     130.560\n",
       "2013-06-21      usd  122.590     133.200\n",
       "2013-06-27      usd  125.120     127.650\n",
       "2013-07-14      usd  119.680     130.180\n",
       "...             ...      ...         ...\n",
       "2015-05-05      usd   74.640      85.500\n",
       "2015-05-07      usd   74.640      76.000\n",
       "2015-05-13      usd   65.310      76.000\n",
       "2015-05-21      usd   62.700      62.700\n",
       "2015-05-26      usd   58.900      62.700\n",
       "2015-05-30      usd   57.000      60.800\n",
       "2015-06-19      usd   58.900      61.152\n",
       "2015-07-06      usd   65.695      76.000\n",
       "2015-07-08      usd   93.850      95.000\n",
       "2015-07-09      usd  105.300     108.000\n",
       "2015-07-09      usd  122.850     126.000\n",
       "2015-07-11      usd   87.750      90.000\n",
       "2015-07-12      usd   63.080      63.080\n",
       "2015-08-06      usd   60.800      64.000\n",
       "2015-08-11      usd   55.200      56.000\n",
       "2015-09-14      usd   52.800      52.800\n",
       "2015-09-25      usd   49.600      53.163\n",
       "2015-09-28      usd   48.800      49.941\n",
       "2015-10-05      usd   48.000      48.330\n",
       "2015-10-13      usd   44.800      48.330\n",
       "2015-10-14      usd   44.800      45.108\n",
       "2015-10-20      usd   43.200      43.497\n",
       "2015-10-25      usd   41.886      41.886\n",
       "2015-10-27      usd   40.275      40.275\n",
       "2015-11-15      usd   40.800      40.800\n",
       "2015-11-22      usd   54.000      54.000\n",
       "2015-12-04      usd   51.300      57.000\n",
       "2015-12-07      usd   47.775      47.775\n",
       "2015-12-13      usd   45.864      45.864\n",
       "2015-12-29      usd   46.791      47.682\n",
       "\n",
       "[136 rows x 3 columns]"
      ]
     },
     "execution_count": 3,
     "metadata": {},
     "output_type": "execute_result"
    }
   ],
   "source": [
    "earbuds"
   ]
  },
  {
   "cell_type": "markdown",
   "metadata": {},
   "source": [
    "There are a lot of questions worth asking of this data.\n",
    "\n",
    "Let's call these our \"item classes\": unique hats, genuine hats, vintage hats, unusual hats, paint buckets, currencies and psuedo-currencies, action items and taunts, etc...\n",
    "\n",
    "* How has average item price by category changed over time?\n",
    "* What does the average hat value curve look like, from the immediate post-release hype to the years that follow?\n",
    "* Meta: what is the average value percentage adjustment in a `backpack.tf` price?\n",
    "* How quickly does the value of something from a crate drop?\n",
    "* etc. etc. etc. etc.\n",
    "\n",
    "So...first...need to ball all of the API data up into individual CSV files, split up by classes. Since generating a list of \"things\" in a category is non-trivial to start out let's do some summary statistics on a concrete but interesting subset of the data?"
   ]
  },
  {
   "cell_type": "code",
   "execution_count": 4,
   "metadata": {
    "collapsed": true
   },
   "outputs": [],
   "source": [
    "metal = Item(\"Refined Metal\")"
   ]
  },
  {
   "cell_type": "code",
   "execution_count": null,
   "metadata": {
    "collapsed": true
   },
   "outputs": [],
   "source": []
  }
 ],
 "metadata": {
  "kernelspec": {
   "display_name": "Python 3",
   "language": "python",
   "name": "python3"
  },
  "language_info": {
   "codemirror_mode": {
    "name": "ipython",
    "version": 3
   },
   "file_extension": ".py",
   "mimetype": "text/x-python",
   "name": "python",
   "nbconvert_exporter": "python",
   "pygments_lexer": "ipython3",
   "version": "3.4.3"
  }
 },
 "nbformat": 4,
 "nbformat_minor": 0
}
