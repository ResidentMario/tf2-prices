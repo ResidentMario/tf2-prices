{
 "cells": [
  {
   "cell_type": "markdown",
   "metadata": {},
   "source": [
    "## Team Fortress 2 Economics\n",
    "\n",
    "This notebook is a work-in-progress study of the Team Fortress 2 economy. It utilizes the `backpack.tf` price history API.\n",
    "\n",
    "`backpack.tf` data goes back to late 2012: the initial log for Earbuds goes back to `2012-08-10`, while the initial log for keys goes back to `2012-07-09`. The constraining variable is Metal, the USD price for which was only first logged on `2013-01-07`. Since all prices are passed through Metal on the way to USD, this means that reliable prices can only be established back to (a reasonably extrapolated) `2013-01-01`.\n",
    "\n",
    "Future work may extend the augment the timeline back beyond this date, this is up in the air - still exploring alternative data sources.\n",
    "\n",
    "For the moment price data older than `2013-01-01` is removed, and all prices are normalized to `usd` by default. This could change in the final version.\n",
    "\n",
    "More to come..."
   ]
  },
  {
   "cell_type": "code",
   "execution_count": 1,
   "metadata": {
    "collapsed": true
   },
   "outputs": [],
   "source": [
    "from item import Item"
   ]
  },
  {
   "cell_type": "code",
   "execution_count": 3,
   "metadata": {
    "collapsed": false
   },
   "outputs": [],
   "source": [
    "earbuds = Item(\"Earbuds\")"
   ]
  },
  {
   "cell_type": "code",
   "execution_count": 4,
   "metadata": {
    "collapsed": false
   },
   "outputs": [
    {
     "data": {
      "text/plain": [
       "           currency     value  value_high\n",
       "2013-01-01      usd  32.34400    34.63200\n",
       "2013-01-07      usd  33.48800    35.96400\n",
       "2013-01-30      usd  35.96400    39.52800\n",
       "2013-02-04      usd  35.29440    40.99200\n",
       "2013-02-26      usd  35.57520    39.80880\n",
       "2013-03-02      usd  35.28720    39.80880\n",
       "2013-03-12      usd  36.66600    41.05890\n",
       "2013-03-18      usd  37.80000    42.57960\n",
       "2013-03-27      usd  38.83950    39.87900\n",
       "2013-03-30      usd  38.40200    40.91850\n",
       "2013-04-03      usd  38.40200    39.40300\n",
       "2013-04-10      usd  37.88750    40.40400\n",
       "2013-04-11      usd  37.88750    39.81250\n",
       "2013-04-12      usd  36.37200    39.81250\n",
       "2013-04-13      usd  37.29600    39.14400\n",
       "2013-04-15      usd  35.74200    39.14400\n",
       "2013-04-16      usd  36.62750    37.51300\n",
       "2013-04-20      usd  35.03500    37.51300\n",
       "2013-04-22      usd  35.88200    36.72900\n",
       "2013-04-27      usd  35.05950    38.50000\n",
       "2013-05-13      usd  38.50000    39.34700\n",
       "2013-05-19      usd  38.50000    42.02100\n",
       "2013-05-21      usd  40.25000    42.02100\n",
       "2013-05-23      usd  40.25000    43.84800\n",
       "2013-05-26      usd  42.92400    44.77200\n",
       "2013-05-31      usd  42.92400    46.63750\n",
       "2013-06-17      usd  44.77200    45.69600\n",
       "2013-06-21      usd  42.90650    46.62000\n",
       "2013-06-27      usd  41.28960    44.67750\n",
       "2013-07-14      usd  39.49440    45.56300\n",
       "...             ...       ...         ...\n",
       "2015-05-05      usd   8.21040    10.26000\n",
       "2015-05-07      usd   8.21040     9.12000\n",
       "2015-05-13      usd   7.18410     9.12000\n",
       "2015-05-21      usd   7.52400     7.52400\n",
       "2015-05-26      usd   7.06800     7.52400\n",
       "2015-05-30      usd   6.84000     7.29600\n",
       "2015-06-19      usd   7.06800     7.33824\n",
       "2015-07-06      usd   7.22645     9.12000\n",
       "2015-07-08      usd  10.32350    11.40000\n",
       "2015-07-09      usd  11.58300    12.96000\n",
       "2015-07-09      usd  13.51350    15.12000\n",
       "2015-07-11      usd   9.65250    10.80000\n",
       "2015-07-12      usd   6.93880     7.56960\n",
       "2015-08-06      usd   7.29600     8.32000\n",
       "2015-08-11      usd   6.62400     7.28000\n",
       "2015-09-14      usd   6.33600     6.86400\n",
       "2015-09-25      usd   5.95200     6.91119\n",
       "2015-09-28      usd   5.85600     6.49233\n",
       "2015-10-05      usd   5.76000     6.28290\n",
       "2015-10-13      usd   5.37600     6.28290\n",
       "2015-10-14      usd   5.37600     5.86404\n",
       "2015-10-20      usd   5.18400     5.65461\n",
       "2015-10-25      usd   5.02632     5.44518\n",
       "2015-10-27      usd   4.83300     5.23575\n",
       "2015-11-15      usd   4.89600     5.30400\n",
       "2015-11-22      usd   6.48000     7.02000\n",
       "2015-12-04      usd   6.15600     7.41000\n",
       "2015-12-07      usd   5.73300     6.21075\n",
       "2015-12-13      usd   5.50368     5.96232\n",
       "2015-12-29      usd   5.61492     6.19866\n",
       "\n",
       "[136 rows x 3 columns]"
      ]
     },
     "execution_count": 4,
     "metadata": {},
     "output_type": "execute_result"
    }
   ],
   "source": [
    "earbuds"
   ]
  },
  {
   "cell_type": "markdown",
   "metadata": {},
   "source": [
    "There are a lot of questions worth asking of this data.\n",
    "\n",
    "Let's call these our \"item classes\": unique hats, genuine hats, vintage hats, unusual hats, paint buckets, currencies and psuedo-currencies, action items and taunts, etc...\n",
    "\n",
    "* How has average item price by category changed over time?\n",
    "* What does the average hat value curve look like, from the immediate post-release hype to the years that follow?\n",
    "* Meta: what is the average value percentage adjustment in a `backpack.tf` price?\n",
    "* How quickly does the value of something from a crate drop?\n",
    "* etc. etc. etc. etc.\n",
    "\n",
    "So...first...need to ball all of the API data up into individual CSV files, split up by classes. Since generating a list of \"things\" in a category is non-trivial to start out let's do some summary statistics on a concrete but interesting subset of the data?"
   ]
  }
 ],
 "metadata": {
  "kernelspec": {
   "display_name": "Python 3",
   "language": "python",
   "name": "python3"
  },
  "language_info": {
   "codemirror_mode": {
    "name": "ipython",
    "version": 3
   },
   "file_extension": ".py",
   "mimetype": "text/x-python",
   "name": "python",
   "nbconvert_exporter": "python",
   "pygments_lexer": "ipython3",
   "version": "3.4.3"
  }
 },
 "nbformat": 4,
 "nbformat_minor": 0
}
